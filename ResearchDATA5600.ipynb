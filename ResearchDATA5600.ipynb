{
  "nbformat": 4,
  "nbformat_minor": 0,
  "metadata": {
    "colab": {
      "name": "ResearchDATA5600.ipynb",
      "provenance": [],
      "authorship_tag": "ABX9TyM+i+M9pHeRd/ZBnXyIKGGS",
      "include_colab_link": true
    },
    "kernelspec": {
      "name": "python3",
      "display_name": "Python 3"
    },
    "language_info": {
      "name": "python"
    }
  },
  "cells": [
    {
      "cell_type": "markdown",
      "metadata": {
        "id": "view-in-github",
        "colab_type": "text"
      },
      "source": [
        "<a href=\"https://colab.research.google.com/github/SumnerDolleman/Research-Methods-Data-5600/blob/main/ResearchDATA5600.ipynb\" target=\"_parent\"><img src=\"https://colab.research.google.com/assets/colab-badge.svg\" alt=\"Open In Colab\"/></a>"
      ]
    },
    {
      "cell_type": "code",
      "execution_count": 34,
      "metadata": {
        "id": "Ij_45VuwqpHH",
        "colab": {
          "base_uri": "https://localhost:8080/"
        },
        "outputId": "34e8d6fc-1991-41ec-b39e-eefc1afa466e"
      },
      "outputs": [
        {
          "output_type": "execute_result",
          "data": {
            "text/plain": [
              "<bound method NDFrame.head of     Total population 25 years and over with a Bachelor's degree or higher  ...                                Field Category\n",
              "0                                      Total for 25 =<                     ...                                    All Fields\n",
              "1                              Science and Engineering                     ...                 Science and Engineering Total\n",
              "2                Computers, Mathematics and Statistics                     ...                       Science and Engineering\n",
              "3    Biological, Agricultural, and Environmental Sc...                     ...                       Science and Engineering\n",
              "4                        Physical and Related Sciences                     ...                       Science and Engineering\n",
              "..                                                 ...                     ...                                           ...\n",
              "175                            Science and Engineering                     ...                 Science and Engineering Total\n",
              "176             Science and Engineering Related Fields                     ...  Science and Engineering Related Fields Total\n",
              "177                                           Business                     ...                                Business Total\n",
              "178                                          Education                     ...                               Education Total\n",
              "179                        Arts, Humanities and Others                     ...             Arts, Humanities and Others Total\n",
              "\n",
              "[180 rows x 16 columns]>"
            ]
          },
          "metadata": {},
          "execution_count": 34
        }
      ],
      "source": [
        "import pandas as pd\n",
        "import matplotlib.pyplot as plt\n",
        "\n",
        "df  = pd.read_csv('https://github.com/SumnerDolleman/Research-Methods-Data-5600/blob/main/ACSST1Y2019.S1502-2022-02-21T231940.csv?raw=true')\n",
        "df.head"
      ]
    },
    {
      "cell_type": "markdown",
      "source": [
        "Clean your dataset of missing values and remove all variables not necessary for your project. "
      ],
      "metadata": {
        "id": "bPRXrKvUgG3C"
      }
    },
    {
      "cell_type": "code",
      "source": [
        "df1= df\n",
        "df1.drop(['Percent Margin of Error ±','Male Estimate','Male Margin of Error ±','Percent Male Estimate','Percent Male Margin of Error ±','Female Estimate','Female Margin of Error ±','Percent Female Estimate', 'Percent Female Margin of Error ±'], axis=1)"
      ],
      "metadata": {
        "colab": {
          "base_uri": "https://localhost:8080/",
          "height": 423
        },
        "id": "mcalj8VGk9J4",
        "outputId": "6c07b3e0-5109-4a07-bbd5-7db0de137524"
      },
      "execution_count": 24,
      "outputs": [
        {
          "output_type": "execute_result",
          "data": {
            "text/html": [
              "\n",
              "  <div id=\"df-54f46587-e68c-4294-bf80-51ba374b2e9a\">\n",
              "    <div class=\"colab-df-container\">\n",
              "      <div>\n",
              "<style scoped>\n",
              "    .dataframe tbody tr th:only-of-type {\n",
              "        vertical-align: middle;\n",
              "    }\n",
              "\n",
              "    .dataframe tbody tr th {\n",
              "        vertical-align: top;\n",
              "    }\n",
              "\n",
              "    .dataframe thead th {\n",
              "        text-align: right;\n",
              "    }\n",
              "</style>\n",
              "<table border=\"1\" class=\"dataframe\">\n",
              "  <thead>\n",
              "    <tr style=\"text-align: right;\">\n",
              "      <th></th>\n",
              "      <th>Total population 25 years and over with a Bachelor's degree or higher</th>\n",
              "      <th>Total Estimate</th>\n",
              "      <th>Total Margin of Error ±</th>\n",
              "      <th>Percent Estimate</th>\n",
              "      <th>Year</th>\n",
              "      <th>Age Range</th>\n",
              "      <th>Field Category</th>\n",
              "    </tr>\n",
              "  </thead>\n",
              "  <tbody>\n",
              "    <tr>\n",
              "      <th>0</th>\n",
              "      <td>Total for 25 =&lt;</td>\n",
              "      <td>74501651.0</td>\n",
              "      <td>239607.0</td>\n",
              "      <td>NaN</td>\n",
              "      <td>2019</td>\n",
              "      <td>25 =&lt;</td>\n",
              "      <td>All Fields</td>\n",
              "    </tr>\n",
              "    <tr>\n",
              "      <th>1</th>\n",
              "      <td>Science and Engineering</td>\n",
              "      <td>26372231.0</td>\n",
              "      <td>116922.0</td>\n",
              "      <td>0.35</td>\n",
              "      <td>2019</td>\n",
              "      <td>25 =&lt;</td>\n",
              "      <td>Science and Engineering Total</td>\n",
              "    </tr>\n",
              "    <tr>\n",
              "      <th>2</th>\n",
              "      <td>Computers, Mathematics and Statistics</td>\n",
              "      <td>3528602.0</td>\n",
              "      <td>33816.0</td>\n",
              "      <td>0.05</td>\n",
              "      <td>2019</td>\n",
              "      <td>25 =&lt;</td>\n",
              "      <td>Science and Engineering</td>\n",
              "    </tr>\n",
              "    <tr>\n",
              "      <th>3</th>\n",
              "      <td>Biological, Agricultural, and Environmental Sc...</td>\n",
              "      <td>4800237.0</td>\n",
              "      <td>44660.0</td>\n",
              "      <td>0.06</td>\n",
              "      <td>2019</td>\n",
              "      <td>25 =&lt;</td>\n",
              "      <td>Science and Engineering</td>\n",
              "    </tr>\n",
              "    <tr>\n",
              "      <th>4</th>\n",
              "      <td>Physical and Related Sciences</td>\n",
              "      <td>2284783.0</td>\n",
              "      <td>29003.0</td>\n",
              "      <td>0.03</td>\n",
              "      <td>2019</td>\n",
              "      <td>25 =&lt;</td>\n",
              "      <td>Science and Engineering</td>\n",
              "    </tr>\n",
              "    <tr>\n",
              "      <th>...</th>\n",
              "      <td>...</td>\n",
              "      <td>...</td>\n",
              "      <td>...</td>\n",
              "      <td>...</td>\n",
              "      <td>...</td>\n",
              "      <td>...</td>\n",
              "      <td>...</td>\n",
              "    </tr>\n",
              "    <tr>\n",
              "      <th>175</th>\n",
              "      <td>Science and Engineering</td>\n",
              "      <td>3965158.0</td>\n",
              "      <td>27040.0</td>\n",
              "      <td>0.32</td>\n",
              "      <td>2015</td>\n",
              "      <td>65 =&lt;</td>\n",
              "      <td>Science and Engineering Total</td>\n",
              "    </tr>\n",
              "    <tr>\n",
              "      <th>176</th>\n",
              "      <td>Science and Engineering Related Fields</td>\n",
              "      <td>1044758.0</td>\n",
              "      <td>15008.0</td>\n",
              "      <td>0.09</td>\n",
              "      <td>2015</td>\n",
              "      <td>65 =&lt;</td>\n",
              "      <td>Science and Engineering Related Fields Total</td>\n",
              "    </tr>\n",
              "    <tr>\n",
              "      <th>177</th>\n",
              "      <td>Business</td>\n",
              "      <td>1951219.0</td>\n",
              "      <td>18810.0</td>\n",
              "      <td>0.16</td>\n",
              "      <td>2015</td>\n",
              "      <td>65 =&lt;</td>\n",
              "      <td>Business Total</td>\n",
              "    </tr>\n",
              "    <tr>\n",
              "      <th>178</th>\n",
              "      <td>Education</td>\n",
              "      <td>2856309.0</td>\n",
              "      <td>24512.0</td>\n",
              "      <td>0.23</td>\n",
              "      <td>2015</td>\n",
              "      <td>65 =&lt;</td>\n",
              "      <td>Education Total</td>\n",
              "    </tr>\n",
              "    <tr>\n",
              "      <th>179</th>\n",
              "      <td>Arts, Humanities and Others</td>\n",
              "      <td>2491228.0</td>\n",
              "      <td>20692.0</td>\n",
              "      <td>0.20</td>\n",
              "      <td>2015</td>\n",
              "      <td>65 =&lt;</td>\n",
              "      <td>Arts, Humanities and Others Total</td>\n",
              "    </tr>\n",
              "  </tbody>\n",
              "</table>\n",
              "<p>180 rows × 7 columns</p>\n",
              "</div>\n",
              "      <button class=\"colab-df-convert\" onclick=\"convertToInteractive('df-54f46587-e68c-4294-bf80-51ba374b2e9a')\"\n",
              "              title=\"Convert this dataframe to an interactive table.\"\n",
              "              style=\"display:none;\">\n",
              "        \n",
              "  <svg xmlns=\"http://www.w3.org/2000/svg\" height=\"24px\"viewBox=\"0 0 24 24\"\n",
              "       width=\"24px\">\n",
              "    <path d=\"M0 0h24v24H0V0z\" fill=\"none\"/>\n",
              "    <path d=\"M18.56 5.44l.94 2.06.94-2.06 2.06-.94-2.06-.94-.94-2.06-.94 2.06-2.06.94zm-11 1L8.5 8.5l.94-2.06 2.06-.94-2.06-.94L8.5 2.5l-.94 2.06-2.06.94zm10 10l.94 2.06.94-2.06 2.06-.94-2.06-.94-.94-2.06-.94 2.06-2.06.94z\"/><path d=\"M17.41 7.96l-1.37-1.37c-.4-.4-.92-.59-1.43-.59-.52 0-1.04.2-1.43.59L10.3 9.45l-7.72 7.72c-.78.78-.78 2.05 0 2.83L4 21.41c.39.39.9.59 1.41.59.51 0 1.02-.2 1.41-.59l7.78-7.78 2.81-2.81c.8-.78.8-2.07 0-2.86zM5.41 20L4 18.59l7.72-7.72 1.47 1.35L5.41 20z\"/>\n",
              "  </svg>\n",
              "      </button>\n",
              "      \n",
              "  <style>\n",
              "    .colab-df-container {\n",
              "      display:flex;\n",
              "      flex-wrap:wrap;\n",
              "      gap: 12px;\n",
              "    }\n",
              "\n",
              "    .colab-df-convert {\n",
              "      background-color: #E8F0FE;\n",
              "      border: none;\n",
              "      border-radius: 50%;\n",
              "      cursor: pointer;\n",
              "      display: none;\n",
              "      fill: #1967D2;\n",
              "      height: 32px;\n",
              "      padding: 0 0 0 0;\n",
              "      width: 32px;\n",
              "    }\n",
              "\n",
              "    .colab-df-convert:hover {\n",
              "      background-color: #E2EBFA;\n",
              "      box-shadow: 0px 1px 2px rgba(60, 64, 67, 0.3), 0px 1px 3px 1px rgba(60, 64, 67, 0.15);\n",
              "      fill: #174EA6;\n",
              "    }\n",
              "\n",
              "    [theme=dark] .colab-df-convert {\n",
              "      background-color: #3B4455;\n",
              "      fill: #D2E3FC;\n",
              "    }\n",
              "\n",
              "    [theme=dark] .colab-df-convert:hover {\n",
              "      background-color: #434B5C;\n",
              "      box-shadow: 0px 1px 3px 1px rgba(0, 0, 0, 0.15);\n",
              "      filter: drop-shadow(0px 1px 2px rgba(0, 0, 0, 0.3));\n",
              "      fill: #FFFFFF;\n",
              "    }\n",
              "  </style>\n",
              "\n",
              "      <script>\n",
              "        const buttonEl =\n",
              "          document.querySelector('#df-54f46587-e68c-4294-bf80-51ba374b2e9a button.colab-df-convert');\n",
              "        buttonEl.style.display =\n",
              "          google.colab.kernel.accessAllowed ? 'block' : 'none';\n",
              "\n",
              "        async function convertToInteractive(key) {\n",
              "          const element = document.querySelector('#df-54f46587-e68c-4294-bf80-51ba374b2e9a');\n",
              "          const dataTable =\n",
              "            await google.colab.kernel.invokeFunction('convertToInteractive',\n",
              "                                                     [key], {});\n",
              "          if (!dataTable) return;\n",
              "\n",
              "          const docLinkHtml = 'Like what you see? Visit the ' +\n",
              "            '<a target=\"_blank\" href=https://colab.research.google.com/notebooks/data_table.ipynb>data table notebook</a>'\n",
              "            + ' to learn more about interactive tables.';\n",
              "          element.innerHTML = '';\n",
              "          dataTable['output_type'] = 'display_data';\n",
              "          await google.colab.output.renderOutput(dataTable, element);\n",
              "          const docLink = document.createElement('div');\n",
              "          docLink.innerHTML = docLinkHtml;\n",
              "          element.appendChild(docLink);\n",
              "        }\n",
              "      </script>\n",
              "    </div>\n",
              "  </div>\n",
              "  "
            ],
            "text/plain": [
              "    Total population 25 years and over with a Bachelor's degree or higher  ...                                Field Category\n",
              "0                                      Total for 25 =<                     ...                                    All Fields\n",
              "1                              Science and Engineering                     ...                 Science and Engineering Total\n",
              "2                Computers, Mathematics and Statistics                     ...                       Science and Engineering\n",
              "3    Biological, Agricultural, and Environmental Sc...                     ...                       Science and Engineering\n",
              "4                        Physical and Related Sciences                     ...                       Science and Engineering\n",
              "..                                                 ...                     ...                                           ...\n",
              "175                            Science and Engineering                     ...                 Science and Engineering Total\n",
              "176             Science and Engineering Related Fields                     ...  Science and Engineering Related Fields Total\n",
              "177                                           Business                     ...                                Business Total\n",
              "178                                          Education                     ...                               Education Total\n",
              "179                        Arts, Humanities and Others                     ...             Arts, Humanities and Others Total\n",
              "\n",
              "[180 rows x 7 columns]"
            ]
          },
          "metadata": {},
          "execution_count": 24
        }
      ]
    },
    {
      "cell_type": "markdown",
      "source": [
        "Calculate Mean, Median and Mode for all the remaining variables in the data set (min. 2 independent variables and one dependent variable)."
      ],
      "metadata": {
        "id": "oP99YD_rgjMP"
      }
    },
    {
      "cell_type": "code",
      "source": [
        "m1 = df1['Total Estimate'].mean()\n",
        "med1 = df1['Total Estimate'].median()\n",
        "mod1 = df1['Total Estimate'].mode()\n",
        "\n",
        "print('Here is the summary stastics for the Total Estimate column', '\\nMean: ', m1, '\\nMedian: ', med1, '\\nMode: ', mod1)"
      ],
      "metadata": {
        "id": "YYIcY7f1eIBy",
        "colab": {
          "base_uri": "https://localhost:8080/"
        },
        "outputId": "95189524-94cd-4a5c-84d6-a9f57de8247c"
      },
      "execution_count": 25,
      "outputs": [
        {
          "output_type": "stream",
          "name": "stdout",
          "text": [
            "Here is the summary stastics for the Total Estimate column \n",
            "Mean:  8969205.822222222 \n",
            "Median:  4460671.0 \n",
            "Mode:  0        431426.0\n",
            "1        463443.0\n",
            "2        516502.0\n",
            "3        551454.0\n",
            "4        575156.0\n",
            "          ...    \n",
            "175    66241553.0\n",
            "176    68334277.0\n",
            "177    70765915.0\n",
            "178    72750461.0\n",
            "179    74501651.0\n",
            "Length: 180, dtype: float64\n"
          ]
        }
      ]
    },
    {
      "cell_type": "code",
      "source": [
        "m1 = df1['Total Margin of Error ±'].mean()\n",
        "med1 = df1['Total Margin of Error ±'].median()\n",
        "mod1 = df1['Total Margin of Error ±'].mode()\n",
        "print('Here is the summary stastics for the Total Estimate column', '\\nMean: ', m1, '\\nMedian: ', med1, '\\nMode: ', mod1)"
      ],
      "metadata": {
        "colab": {
          "base_uri": "https://localhost:8080/"
        },
        "id": "MDFePXFcpGU8",
        "outputId": "2c715fd8-4b63-4397-87cb-467b11a1635f"
      },
      "execution_count": 26,
      "outputs": [
        {
          "output_type": "stream",
          "name": "stdout",
          "text": [
            "Here is the summary stastics for the Total Estimate column \n",
            "Mean:  47586.7 \n",
            "Median:  35013.0 \n",
            "Mode:  0       10614.0\n",
            "1       11323.0\n",
            "2       11657.0\n",
            "3       12348.0\n",
            "4       13879.0\n",
            "         ...   \n",
            "175    176742.0\n",
            "176    190041.0\n",
            "177    220713.0\n",
            "178    232413.0\n",
            "179    239607.0\n",
            "Length: 180, dtype: float64\n"
          ]
        }
      ]
    },
    {
      "cell_type": "code",
      "source": [
        "m1 = df1['Percent Estimate'].mean()\n",
        "med1 = df1['Percent Estimate'].median()\n",
        "mod1 = df1['Percent Estimate'].mode()\n",
        "print('Here is the summary stastics for the Total Estimate column', '\\nMean: ', m1, '\\nMedian: ', med1, '\\nMode: ', mod1)"
      ],
      "metadata": {
        "colab": {
          "base_uri": "https://localhost:8080/"
        },
        "id": "X4JlBtY2pT-Q",
        "outputId": "386e5f74-89fc-44b2-dbcb-c23ed1c67356"
      },
      "execution_count": 27,
      "outputs": [
        {
          "output_type": "stream",
          "name": "stdout",
          "text": [
            "Here is the summary stastics for the Total Estimate column \n",
            "Mean:  0.14641975308641972 \n",
            "Median:  0.1 \n",
            "Mode:  0    0.04\n",
            "dtype: float64\n"
          ]
        }
      ]
    },
    {
      "cell_type": "markdown",
      "source": [
        "Calculate the range (minimum to maximum and three quartile values), variance and standard deviations for the variables in the dataset.\n"
      ],
      "metadata": {
        "id": "NzT6VGpLglpF"
      }
    },
    {
      "cell_type": "code",
      "source": [
        "min1 = df1['Total Estimate'].min()\n",
        "max1 = df1['Total Estimate'].max()\n",
        "q1 = df1['Total Estimate'].quantile(q= .25)\n",
        "q2 = df1['Total Estimate'].quantile(q=.5)\n",
        "q3 = df1['Total Estimate'].quantile(q=.75)\n",
        "sd1 = df1['Total Estimate'].std()\n",
        "var1 = df1['Total Estimate'].var()\n",
        "print('Here is the summary stastics for the Total Estimate column', '\\nMin: ', min1, '\\nMax: ', max1, '\\nQ1, Q2, Q3: ', q1, ', ', q2, ', ', q3, '\\nStandard Deviation:', sd1, '\\nVariance:', var1)"
      ],
      "metadata": {
        "id": "CO3sooP_g9oy",
        "colab": {
          "base_uri": "https://localhost:8080/"
        },
        "outputId": "5ce5b5ba-a1af-4e9c-dad3-e68811d7c57f"
      },
      "execution_count": 31,
      "outputs": [
        {
          "output_type": "stream",
          "name": "stdout",
          "text": [
            "Here is the summary stastics for the Total Estimate column \n",
            "Min:  431426.0 \n",
            "Max:  74501651.0 \n",
            "Q1, Q2, Q3:  2993137.25 ,  4460671.0 ,  8644500.25 \n",
            "Standard Deviation: 12657791.260148734 \n",
            "Variance: 160219679585497.7\n"
          ]
        }
      ]
    },
    {
      "cell_type": "code",
      "source": [
        "min1 = df1['Total Margin of Error ±'].min()\n",
        "max1 = df1['Total Margin of Error ±'].max()\n",
        "q1 = df1['Total Margin of Error ±'].quantile(q= .25)\n",
        "q2 = df1['Total Margin of Error ±'].quantile(q=.5)\n",
        "q3 = df1['Total Margin of Error ±'].quantile(q=.75)\n",
        "sd1 = df1['Total Margin of Error ±'].std()\n",
        "var1 = df1['Total Margin of Error ±'].var()\n",
        "print('Here is the summary stastics for the Total Estimate column', '\\nMin: ', min1, '\\nMax: ', max1, '\\nQ1, Q2, Q3: ', q1, ', ', q2, ', ', q3, '\\nStandard Deviation:', sd1, '\\nVariance:', var1)"
      ],
      "metadata": {
        "colab": {
          "base_uri": "https://localhost:8080/"
        },
        "id": "bZqcNG-K1l2y",
        "outputId": "70376319-eacd-4ac2-9a74-8741f03682a1"
      },
      "execution_count": 32,
      "outputs": [
        {
          "output_type": "stream",
          "name": "stdout",
          "text": [
            "Here is the summary stastics for the Total Estimate column \n",
            "Min:  10614.0 \n",
            "Max:  239607.0 \n",
            "Q1, Q2, Q3:  27588.5 ,  35013.0 ,  52155.0 \n",
            "Standard Deviation: 37113.58494384985 \n",
            "Variance: 1377418187.3843582\n"
          ]
        }
      ]
    },
    {
      "cell_type": "code",
      "source": [
        "min1 = df1['Percent Estimate'].min()\n",
        "max1 = df1['Percent Estimate'].max()\n",
        "q1 = df1['Percent Estimate'].quantile(q= .25)\n",
        "q2 = df1['Percent Estimate'].quantile(q=.5)\n",
        "q3 = df1['Percent Estimate'].quantile(q=.75)\n",
        "sd1 = df1['Percent Estimate'].std()\n",
        "var1 = df1['Percent Estimate'].var()\n",
        "print('Here is the summary stastics for the Total Estimate column', '\\nMin: ', min1, '\\nMax: ', max1, '\\nQ1, Q2, Q3: ', q1, ', ', q2, ', ', q3, '\\nStandard Deviation:', sd1, '\\nVariance:', var1)"
      ],
      "metadata": {
        "colab": {
          "base_uri": "https://localhost:8080/"
        },
        "id": "QyVitc0b2wJO",
        "outputId": "1f7bc1b2-7df0-4928-88cb-f5ecc1960d4d"
      },
      "execution_count": 33,
      "outputs": [
        {
          "output_type": "stream",
          "name": "stdout",
          "text": [
            "Here is the summary stastics for the Total Estimate column \n",
            "Min:  0.01 \n",
            "Max:  0.39 \n",
            "Q1, Q2, Q3:  0.06 ,  0.1 ,  0.22 \n",
            "Standard Deviation: 0.10619106935084768 \n",
            "Variance: 0.011276543209876541\n"
          ]
        }
      ]
    },
    {
      "cell_type": "markdown",
      "source": [
        "What can you conclude about this data set? Can you characterize your key variables as having a normal distribution? Why or why not? Provide support for your answers. \n"
      ],
      "metadata": {
        "id": "02rMjzgQgq5K"
      }
    },
    {
      "cell_type": "code",
      "source": [
        "\n",
        "plt.plot(df1['Total Estimate'], 'o', color='black');"
      ],
      "metadata": {
        "id": "XznsBhS5g-ah",
        "colab": {
          "base_uri": "https://localhost:8080/",
          "height": 276
        },
        "outputId": "ff23fb13-cc9c-431a-d8ba-148d29cdf76b"
      },
      "execution_count": 36,
      "outputs": [
        {
          "output_type": "display_data",
          "data": {
            "image/png": "[encoded data removed]",
            "text/plain": [
              "<Figure size 432x288 with 1 Axes>"
            ]
          },
          "metadata": {
            "needs_background": "light"
          }
        }
      ]
    },
    {
      "cell_type": "code",
      "source": [
        "plt.plot(df1['Total Margin of Error ±'], 'o', color='black');"
      ],
      "metadata": {
        "colab": {
          "base_uri": "https://localhost:8080/",
          "height": 268
        },
        "id": "JHQD07aS4I26",
        "outputId": "78731b3f-af19-41f9-a3a3-336a97807d70"
      },
      "execution_count": 37,
      "outputs": [
        {
          "output_type": "display_data",
          "data": {
            "image/png": "[encoded data removed]",
            "text/plain": [
              "<Figure size 432x288 with 1 Axes>"
            ]
          },
          "metadata": {
            "needs_background": "light"
          }
        }
      ]
    },
    {
      "cell_type": "code",
      "source": [
        "plt.plot(df1['Percent Estimate'], 'o', color='black');"
      ],
      "metadata": {
        "colab": {
          "base_uri": "https://localhost:8080/",
          "height": 265
        },
        "id": "roKlRHnt4TTW",
        "outputId": "43cb8d5b-f488-4b53-988a-908b2add82b0"
      },
      "execution_count": 38,
      "outputs": [
        {
          "output_type": "display_data",
          "data": {
            "image/png": "[encoded data removed]",
            "text/plain": [
              "<Figure size 432x288 with 1 Axes>"
            ]
          },
          "metadata": {
            "needs_background": "light"
          }
        }
      ]
    }
  ]
}