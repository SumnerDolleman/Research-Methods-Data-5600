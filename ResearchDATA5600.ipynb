{
  "nbformat": 4,
  "nbformat_minor": 0,
  "metadata": {
    "colab": {
      "name": "ResearchDATA5600.ipynb",
      "provenance": [],
      "authorship_tag": "ABX9TyPdt05iBs7B4OwDptE//aTT",
      "include_colab_link": true
    },
    "kernelspec": {
      "name": "python3",
      "display_name": "Python 3"
    },
    "language_info": {
      "name": "python"
    }
  },
  "cells": [
    {
      "cell_type": "markdown",
      "metadata": {
        "id": "view-in-github",
        "colab_type": "text"
      },
      "source": [
        "<a href=\"https://colab.research.google.com/github/SumnerDolleman/Research-Methods-Data-5600/blob/main/ResearchDATA5600.ipynb\" target=\"_parent\"><img src=\"https://colab.research.google.com/assets/colab-badge.svg\" alt=\"Open In Colab\"/></a>"
      ]
    },
    {
      "cell_type": "code",
      "execution_count": 8,
      "metadata": {
        "id": "Ij_45VuwqpHH",
        "colab": {
          "base_uri": "https://localhost:8080/"
        },
        "outputId": "e88fd0c7-f0c0-43f5-b3b3-9e08c239805f"
      },
      "outputs": [
        {
          "output_type": "execute_result",
          "data": {
            "text/plain": [
              "<bound method NDFrame.head of     Total population 25 years and over with a Bachelor's degree or higher  ...                                Field Category\n",
              "0                                      Total for 25 =<                     ...                                    All Fields\n",
              "1                              Science and Engineering                     ...                 Science and Engineering Total\n",
              "2                Computers, Mathematics and Statistics                     ...                       Science and Engineering\n",
              "3    Biological, Agricultural, and Environmental Sc...                     ...                       Science and Engineering\n",
              "4                        Physical and Related Sciences                     ...                       Science and Engineering\n",
              "..                                                 ...                     ...                                           ...\n",
              "175                            Science and Engineering                     ...                 Science and Engineering Total\n",
              "176             Science and Engineering Related Fields                     ...  Science and Engineering Related Fields Total\n",
              "177                                           Business                     ...                                Business Total\n",
              "178                                          Education                     ...                               Education Total\n",
              "179                        Arts, Humanities and Others                     ...             Arts, Humanities and Others Total\n",
              "\n",
              "[180 rows x 16 columns]>"
            ]
          },
          "metadata": {},
          "execution_count": 8
        }
      ],
      "source": [
        "import pandas as pd\n",
        "\n",
        "df  = pd.read_csv('https://github.com/SumnerDolleman/Research-Methods-Data-5600/blob/main/ACSST1Y2019.S1502-2022-02-21T231940.csv?raw=true')\n",
        "df.head"
      ]
    },
    {
      "cell_type": "markdown",
      "source": [
        "Clean your dataset of missing values and remove all variables not necessary for your project. "
      ],
      "metadata": {
        "id": "bPRXrKvUgG3C"
      }
    },
    {
      "cell_type": "code",
      "source": [
        "df1= df"
      ],
      "metadata": {
        "id": "M027rLbJhDpj"
      },
      "execution_count": 31,
      "outputs": []
    },
    {
      "cell_type": "code",
      "source": [
        "df1.drop(['Percent Margin of Error ±','Male Estimate','Male Margin of Error ±','Percent Male Estimate','Percent Male Margin of Error ±','Female Estimate','Female Margin of Error ±','Percent Female Estimate', 'Percent Female Margin of Error ±'], axis=1)"
      ],
      "metadata": {
        "colab": {
          "base_uri": "https://localhost:8080/",
          "height": 423
        },
        "id": "mcalj8VGk9J4",
        "outputId": "297895cc-8d92-46c6-bd0a-4f3c484bd25a"
      },
      "execution_count": 32,
      "outputs": [
        {
          "output_type": "execute_result",
          "data": {
            "text/html": [
              "\n",
              "  <div id=\"df-d9483a31-d2b0-4c94-88b1-c9dfa88c0720\">\n",
              "    <div class=\"colab-df-container\">\n",
              "      <div>\n",
              "<style scoped>\n",
              "    .dataframe tbody tr th:only-of-type {\n",
              "        vertical-align: middle;\n",
              "    }\n",
              "\n",
              "    .dataframe tbody tr th {\n",
              "        vertical-align: top;\n",
              "    }\n",
              "\n",
              "    .dataframe thead th {\n",
              "        text-align: right;\n",
              "    }\n",
              "</style>\n",
              "<table border=\"1\" class=\"dataframe\">\n",
              "  <thead>\n",
              "    <tr style=\"text-align: right;\">\n",
              "      <th></th>\n",
              "      <th>Total population 25 years and over with a Bachelor's degree or higher</th>\n",
              "      <th>Total Estimate</th>\n",
              "      <th>Total Margin of Error ±</th>\n",
              "      <th>Percent Estimate</th>\n",
              "      <th>Year</th>\n",
              "      <th>Age Range</th>\n",
              "      <th>Field Category</th>\n",
              "    </tr>\n",
              "  </thead>\n",
              "  <tbody>\n",
              "    <tr>\n",
              "      <th>0</th>\n",
              "      <td>Total for 25 =&lt;</td>\n",
              "      <td>74,501,651</td>\n",
              "      <td>239607.00</td>\n",
              "      <td>NaN</td>\n",
              "      <td>2019</td>\n",
              "      <td>25 =&lt;</td>\n",
              "      <td>All Fields</td>\n",
              "    </tr>\n",
              "    <tr>\n",
              "      <th>1</th>\n",
              "      <td>Science and Engineering</td>\n",
              "      <td>26,372,231</td>\n",
              "      <td>116,922</td>\n",
              "      <td>35.40%</td>\n",
              "      <td>2019</td>\n",
              "      <td>25 =&lt;</td>\n",
              "      <td>Science and Engineering Total</td>\n",
              "    </tr>\n",
              "    <tr>\n",
              "      <th>2</th>\n",
              "      <td>Computers, Mathematics and Statistics</td>\n",
              "      <td>3,528,602</td>\n",
              "      <td>33,816</td>\n",
              "      <td>4.74%</td>\n",
              "      <td>2019</td>\n",
              "      <td>25 =&lt;</td>\n",
              "      <td>Science and Engineering</td>\n",
              "    </tr>\n",
              "    <tr>\n",
              "      <th>3</th>\n",
              "      <td>Biological, Agricultural, and Environmental Sc...</td>\n",
              "      <td>4,800,237</td>\n",
              "      <td>44,660</td>\n",
              "      <td>6.44%</td>\n",
              "      <td>2019</td>\n",
              "      <td>25 =&lt;</td>\n",
              "      <td>Science and Engineering</td>\n",
              "    </tr>\n",
              "    <tr>\n",
              "      <th>4</th>\n",
              "      <td>Physical and Related Sciences</td>\n",
              "      <td>2,284,783</td>\n",
              "      <td>29,003</td>\n",
              "      <td>3.07%</td>\n",
              "      <td>2019</td>\n",
              "      <td>25 =&lt;</td>\n",
              "      <td>Science and Engineering</td>\n",
              "    </tr>\n",
              "    <tr>\n",
              "      <th>...</th>\n",
              "      <td>...</td>\n",
              "      <td>...</td>\n",
              "      <td>...</td>\n",
              "      <td>...</td>\n",
              "      <td>...</td>\n",
              "      <td>...</td>\n",
              "      <td>...</td>\n",
              "    </tr>\n",
              "    <tr>\n",
              "      <th>175</th>\n",
              "      <td>Science and Engineering</td>\n",
              "      <td>3,965,158</td>\n",
              "      <td>27,040</td>\n",
              "      <td>32.20%</td>\n",
              "      <td>2015</td>\n",
              "      <td>65 =&lt;</td>\n",
              "      <td>Science and Engineering Total</td>\n",
              "    </tr>\n",
              "    <tr>\n",
              "      <th>176</th>\n",
              "      <td>Science and Engineering Related Fields</td>\n",
              "      <td>1,044,758</td>\n",
              "      <td>15,008</td>\n",
              "      <td>8.50%</td>\n",
              "      <td>2015</td>\n",
              "      <td>65 =&lt;</td>\n",
              "      <td>Science and Engineering Related Fields Total</td>\n",
              "    </tr>\n",
              "    <tr>\n",
              "      <th>177</th>\n",
              "      <td>Business</td>\n",
              "      <td>1,951,219</td>\n",
              "      <td>18,810</td>\n",
              "      <td>15.90%</td>\n",
              "      <td>2015</td>\n",
              "      <td>65 =&lt;</td>\n",
              "      <td>Business Total</td>\n",
              "    </tr>\n",
              "    <tr>\n",
              "      <th>178</th>\n",
              "      <td>Education</td>\n",
              "      <td>2,856,309</td>\n",
              "      <td>24,512</td>\n",
              "      <td>23.20%</td>\n",
              "      <td>2015</td>\n",
              "      <td>65 =&lt;</td>\n",
              "      <td>Education Total</td>\n",
              "    </tr>\n",
              "    <tr>\n",
              "      <th>179</th>\n",
              "      <td>Arts, Humanities and Others</td>\n",
              "      <td>2,491,228</td>\n",
              "      <td>20,692</td>\n",
              "      <td>20.20%</td>\n",
              "      <td>2015</td>\n",
              "      <td>65 =&lt;</td>\n",
              "      <td>Arts, Humanities and Others Total</td>\n",
              "    </tr>\n",
              "  </tbody>\n",
              "</table>\n",
              "<p>180 rows × 7 columns</p>\n",
              "</div>\n",
              "      <button class=\"colab-df-convert\" onclick=\"convertToInteractive('df-d9483a31-d2b0-4c94-88b1-c9dfa88c0720')\"\n",
              "              title=\"Convert this dataframe to an interactive table.\"\n",
              "              style=\"display:none;\">\n",
              "        \n",
              "  <svg xmlns=\"http://www.w3.org/2000/svg\" height=\"24px\"viewBox=\"0 0 24 24\"\n",
              "       width=\"24px\">\n",
              "    <path d=\"M0 0h24v24H0V0z\" fill=\"none\"/>\n",
              "    <path d=\"M18.56 5.44l.94 2.06.94-2.06 2.06-.94-2.06-.94-.94-2.06-.94 2.06-2.06.94zm-11 1L8.5 8.5l.94-2.06 2.06-.94-2.06-.94L8.5 2.5l-.94 2.06-2.06.94zm10 10l.94 2.06.94-2.06 2.06-.94-2.06-.94-.94-2.06-.94 2.06-2.06.94z\"/><path d=\"M17.41 7.96l-1.37-1.37c-.4-.4-.92-.59-1.43-.59-.52 0-1.04.2-1.43.59L10.3 9.45l-7.72 7.72c-.78.78-.78 2.05 0 2.83L4 21.41c.39.39.9.59 1.41.59.51 0 1.02-.2 1.41-.59l7.78-7.78 2.81-2.81c.8-.78.8-2.07 0-2.86zM5.41 20L4 18.59l7.72-7.72 1.47 1.35L5.41 20z\"/>\n",
              "  </svg>\n",
              "      </button>\n",
              "      \n",
              "  <style>\n",
              "    .colab-df-container {\n",
              "      display:flex;\n",
              "      flex-wrap:wrap;\n",
              "      gap: 12px;\n",
              "    }\n",
              "\n",
              "    .colab-df-convert {\n",
              "      background-color: #E8F0FE;\n",
              "      border: none;\n",
              "      border-radius: 50%;\n",
              "      cursor: pointer;\n",
              "      display: none;\n",
              "      fill: #1967D2;\n",
              "      height: 32px;\n",
              "      padding: 0 0 0 0;\n",
              "      width: 32px;\n",
              "    }\n",
              "\n",
              "    .colab-df-convert:hover {\n",
              "      background-color: #E2EBFA;\n",
              "      box-shadow: 0px 1px 2px rgba(60, 64, 67, 0.3), 0px 1px 3px 1px rgba(60, 64, 67, 0.15);\n",
              "      fill: #174EA6;\n",
              "    }\n",
              "\n",
              "    [theme=dark] .colab-df-convert {\n",
              "      background-color: #3B4455;\n",
              "      fill: #D2E3FC;\n",
              "    }\n",
              "\n",
              "    [theme=dark] .colab-df-convert:hover {\n",
              "      background-color: #434B5C;\n",
              "      box-shadow: 0px 1px 3px 1px rgba(0, 0, 0, 0.15);\n",
              "      filter: drop-shadow(0px 1px 2px rgba(0, 0, 0, 0.3));\n",
              "      fill: #FFFFFF;\n",
              "    }\n",
              "  </style>\n",
              "\n",
              "      <script>\n",
              "        const buttonEl =\n",
              "          document.querySelector('#df-d9483a31-d2b0-4c94-88b1-c9dfa88c0720 button.colab-df-convert');\n",
              "        buttonEl.style.display =\n",
              "          google.colab.kernel.accessAllowed ? 'block' : 'none';\n",
              "\n",
              "        async function convertToInteractive(key) {\n",
              "          const element = document.querySelector('#df-d9483a31-d2b0-4c94-88b1-c9dfa88c0720');\n",
              "          const dataTable =\n",
              "            await google.colab.kernel.invokeFunction('convertToInteractive',\n",
              "                                                     [key], {});\n",
              "          if (!dataTable) return;\n",
              "\n",
              "          const docLinkHtml = 'Like what you see? Visit the ' +\n",
              "            '<a target=\"_blank\" href=https://colab.research.google.com/notebooks/data_table.ipynb>data table notebook</a>'\n",
              "            + ' to learn more about interactive tables.';\n",
              "          element.innerHTML = '';\n",
              "          dataTable['output_type'] = 'display_data';\n",
              "          await google.colab.output.renderOutput(dataTable, element);\n",
              "          const docLink = document.createElement('div');\n",
              "          docLink.innerHTML = docLinkHtml;\n",
              "          element.appendChild(docLink);\n",
              "        }\n",
              "      </script>\n",
              "    </div>\n",
              "  </div>\n",
              "  "
            ],
            "text/plain": [
              "    Total population 25 years and over with a Bachelor's degree or higher  ...                                Field Category\n",
              "0                                      Total for 25 =<                     ...                                    All Fields\n",
              "1                              Science and Engineering                     ...                 Science and Engineering Total\n",
              "2                Computers, Mathematics and Statistics                     ...                       Science and Engineering\n",
              "3    Biological, Agricultural, and Environmental Sc...                     ...                       Science and Engineering\n",
              "4                        Physical and Related Sciences                     ...                       Science and Engineering\n",
              "..                                                 ...                     ...                                           ...\n",
              "175                            Science and Engineering                     ...                 Science and Engineering Total\n",
              "176             Science and Engineering Related Fields                     ...  Science and Engineering Related Fields Total\n",
              "177                                           Business                     ...                                Business Total\n",
              "178                                          Education                     ...                               Education Total\n",
              "179                        Arts, Humanities and Others                     ...             Arts, Humanities and Others Total\n",
              "\n",
              "[180 rows x 7 columns]"
            ]
          },
          "metadata": {},
          "execution_count": 32
        }
      ]
    },
    {
      "cell_type": "markdown",
      "source": [
        "Calculate Mean, Median and Mode for all the remaining variables in the data set (min. 2 independent variables and one dependent variable)."
      ],
      "metadata": {
        "id": "oP99YD_rgjMP"
      }
    },
    {
      "cell_type": "code",
      "source": [
        ""
      ],
      "metadata": {
        "id": "YYIcY7f1eIBy"
      },
      "execution_count": null,
      "outputs": []
    },
    {
      "cell_type": "markdown",
      "source": [
        "Calculate the range (minimum to maximum and three quartile values), variance and standard deviations for the variables in the dataset.\n"
      ],
      "metadata": {
        "id": "NzT6VGpLglpF"
      }
    },
    {
      "cell_type": "code",
      "source": [
        ""
      ],
      "metadata": {
        "id": "CO3sooP_g9oy"
      },
      "execution_count": null,
      "outputs": []
    },
    {
      "cell_type": "markdown",
      "source": [
        "What can you conclude about this data set? Can you characterize your key variables as having a normal distribution? Why or why not? Provide support for your answers. \n"
      ],
      "metadata": {
        "id": "02rMjzgQgq5K"
      }
    },
    {
      "cell_type": "code",
      "source": [
        ""
      ],
      "metadata": {
        "id": "XznsBhS5g-ah"
      },
      "execution_count": null,
      "outputs": []
    }
  ]
}